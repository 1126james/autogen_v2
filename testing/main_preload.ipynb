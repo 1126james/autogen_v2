{
 "cells": [
  {
   "cell_type": "code",
   "execution_count": 17,
   "metadata": {},
   "outputs": [],
   "source": [
    "# Somehow in mac, it cant find local packages\n",
    "# Run this to solve no local modules found in mac\n",
    "import os\n",
    "import sys\n",
    "import json\n",
    "\n",
    "# Get the project root directory (assuming your notebook is in a subdirectory)\n",
    "project_root = os.path.abspath(os.path.join(os.getcwd(), '..'))\n",
    "if project_root not in sys.path:\n",
    "    sys.path.append(project_root)\n",
    "\n",
    "\n",
    "# Python lib\n",
    "import asyncio\n",
    "import os\n",
    "\n",
    "# Autogen-0.4\n",
    "from autogen_agentchat.agents import AssistantAgent\n",
    "\n",
    "from autogen_agentchat.messages import TextMessage\n",
    "from autogen_ext.models.openai import OpenAIChatCompletionClient\n",
    "\n",
    "# Local\n",
    "from utils import get_dataset_profile, get_columns_sample, initialize_individual_chat, jsonify_prompt\n",
    "from prompts import data_dict_summarizer_prompt"
   ]
  },
  {
   "cell_type": "code",
   "execution_count": 79,
   "metadata": {},
   "outputs": [
    {
     "ename": "JSONDecodeError",
     "evalue": "Expecting property name enclosed in double quotes: line 693 column 1 (char 23558)",
     "output_type": "error",
     "traceback": [
      "\u001b[0;31m---------------------------------------------------------------------------\u001b[0m",
      "\u001b[0;31mJSONDecodeError\u001b[0m                           Traceback (most recent call last)",
      "Cell \u001b[0;32mIn[79], line 3\u001b[0m\n\u001b[1;32m      1\u001b[0m \u001b[38;5;28;01mwith\u001b[39;00m \u001b[38;5;28mopen\u001b[39m(\u001b[38;5;124m'\u001b[39m\u001b[38;5;124m../generation_log/Log_202502051844.log\u001b[39m\u001b[38;5;124m'\u001b[39m, \u001b[38;5;124m'\u001b[39m\u001b[38;5;124mr\u001b[39m\u001b[38;5;124m'\u001b[39m) \u001b[38;5;28;01mas\u001b[39;00m file:\n\u001b[1;32m      2\u001b[0m     content \u001b[38;5;241m=\u001b[39m file\u001b[38;5;241m.\u001b[39mread()\n\u001b[0;32m----> 3\u001b[0m     data \u001b[38;5;241m=\u001b[39m \u001b[43mjson\u001b[49m\u001b[38;5;241;43m.\u001b[39;49m\u001b[43mloads\u001b[49m\u001b[43m(\u001b[49m\u001b[43mcontent\u001b[49m\u001b[43m)\u001b[49m\n",
      "File \u001b[0;32m~/.pyenv/versions/3.11.9/lib/python3.11/json/__init__.py:346\u001b[0m, in \u001b[0;36mloads\u001b[0;34m(s, cls, object_hook, parse_float, parse_int, parse_constant, object_pairs_hook, **kw)\u001b[0m\n\u001b[1;32m    341\u001b[0m     s \u001b[38;5;241m=\u001b[39m s\u001b[38;5;241m.\u001b[39mdecode(detect_encoding(s), \u001b[38;5;124m'\u001b[39m\u001b[38;5;124msurrogatepass\u001b[39m\u001b[38;5;124m'\u001b[39m)\n\u001b[1;32m    343\u001b[0m \u001b[38;5;28;01mif\u001b[39;00m (\u001b[38;5;28mcls\u001b[39m \u001b[38;5;129;01mis\u001b[39;00m \u001b[38;5;28;01mNone\u001b[39;00m \u001b[38;5;129;01mand\u001b[39;00m object_hook \u001b[38;5;129;01mis\u001b[39;00m \u001b[38;5;28;01mNone\u001b[39;00m \u001b[38;5;129;01mand\u001b[39;00m\n\u001b[1;32m    344\u001b[0m         parse_int \u001b[38;5;129;01mis\u001b[39;00m \u001b[38;5;28;01mNone\u001b[39;00m \u001b[38;5;129;01mand\u001b[39;00m parse_float \u001b[38;5;129;01mis\u001b[39;00m \u001b[38;5;28;01mNone\u001b[39;00m \u001b[38;5;129;01mand\u001b[39;00m\n\u001b[1;32m    345\u001b[0m         parse_constant \u001b[38;5;129;01mis\u001b[39;00m \u001b[38;5;28;01mNone\u001b[39;00m \u001b[38;5;129;01mand\u001b[39;00m object_pairs_hook \u001b[38;5;129;01mis\u001b[39;00m \u001b[38;5;28;01mNone\u001b[39;00m \u001b[38;5;129;01mand\u001b[39;00m \u001b[38;5;129;01mnot\u001b[39;00m kw):\n\u001b[0;32m--> 346\u001b[0m     \u001b[38;5;28;01mreturn\u001b[39;00m \u001b[43m_default_decoder\u001b[49m\u001b[38;5;241;43m.\u001b[39;49m\u001b[43mdecode\u001b[49m\u001b[43m(\u001b[49m\u001b[43ms\u001b[49m\u001b[43m)\u001b[49m\n\u001b[1;32m    347\u001b[0m \u001b[38;5;28;01mif\u001b[39;00m \u001b[38;5;28mcls\u001b[39m \u001b[38;5;129;01mis\u001b[39;00m \u001b[38;5;28;01mNone\u001b[39;00m:\n\u001b[1;32m    348\u001b[0m     \u001b[38;5;28mcls\u001b[39m \u001b[38;5;241m=\u001b[39m JSONDecoder\n",
      "File \u001b[0;32m~/.pyenv/versions/3.11.9/lib/python3.11/json/decoder.py:337\u001b[0m, in \u001b[0;36mJSONDecoder.decode\u001b[0;34m(self, s, _w)\u001b[0m\n\u001b[1;32m    332\u001b[0m \u001b[38;5;28;01mdef\u001b[39;00m\u001b[38;5;250m \u001b[39m\u001b[38;5;21mdecode\u001b[39m(\u001b[38;5;28mself\u001b[39m, s, _w\u001b[38;5;241m=\u001b[39mWHITESPACE\u001b[38;5;241m.\u001b[39mmatch):\n\u001b[1;32m    333\u001b[0m \u001b[38;5;250m    \u001b[39m\u001b[38;5;124;03m\"\"\"Return the Python representation of ``s`` (a ``str`` instance\u001b[39;00m\n\u001b[1;32m    334\u001b[0m \u001b[38;5;124;03m    containing a JSON document).\u001b[39;00m\n\u001b[1;32m    335\u001b[0m \n\u001b[1;32m    336\u001b[0m \u001b[38;5;124;03m    \"\"\"\u001b[39;00m\n\u001b[0;32m--> 337\u001b[0m     obj, end \u001b[38;5;241m=\u001b[39m \u001b[38;5;28;43mself\u001b[39;49m\u001b[38;5;241;43m.\u001b[39;49m\u001b[43mraw_decode\u001b[49m\u001b[43m(\u001b[49m\u001b[43ms\u001b[49m\u001b[43m,\u001b[49m\u001b[43m \u001b[49m\u001b[43midx\u001b[49m\u001b[38;5;241;43m=\u001b[39;49m\u001b[43m_w\u001b[49m\u001b[43m(\u001b[49m\u001b[43ms\u001b[49m\u001b[43m,\u001b[49m\u001b[43m \u001b[49m\u001b[38;5;241;43m0\u001b[39;49m\u001b[43m)\u001b[49m\u001b[38;5;241;43m.\u001b[39;49m\u001b[43mend\u001b[49m\u001b[43m(\u001b[49m\u001b[43m)\u001b[49m\u001b[43m)\u001b[49m\n\u001b[1;32m    338\u001b[0m     end \u001b[38;5;241m=\u001b[39m _w(s, end)\u001b[38;5;241m.\u001b[39mend()\n\u001b[1;32m    339\u001b[0m     \u001b[38;5;28;01mif\u001b[39;00m end \u001b[38;5;241m!=\u001b[39m \u001b[38;5;28mlen\u001b[39m(s):\n",
      "File \u001b[0;32m~/.pyenv/versions/3.11.9/lib/python3.11/json/decoder.py:353\u001b[0m, in \u001b[0;36mJSONDecoder.raw_decode\u001b[0;34m(self, s, idx)\u001b[0m\n\u001b[1;32m    344\u001b[0m \u001b[38;5;250m\u001b[39m\u001b[38;5;124;03m\"\"\"Decode a JSON document from ``s`` (a ``str`` beginning with\u001b[39;00m\n\u001b[1;32m    345\u001b[0m \u001b[38;5;124;03ma JSON document) and return a 2-tuple of the Python\u001b[39;00m\n\u001b[1;32m    346\u001b[0m \u001b[38;5;124;03mrepresentation and the index in ``s`` where the document ended.\u001b[39;00m\n\u001b[0;32m   (...)\u001b[0m\n\u001b[1;32m    350\u001b[0m \n\u001b[1;32m    351\u001b[0m \u001b[38;5;124;03m\"\"\"\u001b[39;00m\n\u001b[1;32m    352\u001b[0m \u001b[38;5;28;01mtry\u001b[39;00m:\n\u001b[0;32m--> 353\u001b[0m     obj, end \u001b[38;5;241m=\u001b[39m \u001b[38;5;28;43mself\u001b[39;49m\u001b[38;5;241;43m.\u001b[39;49m\u001b[43mscan_once\u001b[49m\u001b[43m(\u001b[49m\u001b[43ms\u001b[49m\u001b[43m,\u001b[49m\u001b[43m \u001b[49m\u001b[43midx\u001b[49m\u001b[43m)\u001b[49m\n\u001b[1;32m    354\u001b[0m \u001b[38;5;28;01mexcept\u001b[39;00m \u001b[38;5;167;01mStopIteration\u001b[39;00m \u001b[38;5;28;01mas\u001b[39;00m err:\n\u001b[1;32m    355\u001b[0m     \u001b[38;5;28;01mraise\u001b[39;00m JSONDecodeError(\u001b[38;5;124m\"\u001b[39m\u001b[38;5;124mExpecting value\u001b[39m\u001b[38;5;124m\"\u001b[39m, s, err\u001b[38;5;241m.\u001b[39mvalue) \u001b[38;5;28;01mfrom\u001b[39;00m\u001b[38;5;250m \u001b[39m\u001b[38;5;28;01mNone\u001b[39;00m\n",
      "\u001b[0;31mJSONDecodeError\u001b[0m: Expecting property name enclosed in double quotes: line 693 column 1 (char 23558)"
     ]
    }
   ],
   "source": [
    "with open('../generation_log/Log_202502051844.log', 'r') as file:\n",
    "    content = file.read()\n",
    "    data = json.loads(content)"
   ]
  },
  {
   "cell_type": "code",
   "execution_count": 78,
   "metadata": {},
   "outputs": [
    {
     "data": {
      "text/plain": [
       "[{'use_case_id': 'C001',\n",
       "  'title': 'Optimize Product Inventory Based on Sales Trends',\n",
       "  'description': 'Identify products that are frequently sold and have low stock to ensure they remain in sufficient supply. This use case aims at increasing revenue by ensuring high-demand items do not go out of stock, reducing lost sales opportunities.',\n",
       "  'data_sources': ['products.csv', 'orderdetails.csv'],\n",
       "  'columns_utilized': ['products.csv.productCode',\n",
       "   'products.csv.quantityInStock',\n",
       "   'orderdetails.csv.orderNumber',\n",
       "   'orderdetails.csv.productCode',\n",
       "   'orderdetails.csv.quantityOrdered'],\n",
       "  'relationships_leveraged': 'The productCode column in products.csv is a primary key that matches with the productCode in orderdetails.csv, allowing us to link each ordered item back to its inventory quantity.'},\n",
       " {'use_case_id': 'C002',\n",
       "  'title': 'Identify High-Revenue Customer Segments for Targeted Marketing',\n",
       "  'description': 'Segment customers based on their payment history and total payments. This use case aims at increasing revenue by identifying high-spending customer segments and tailoring marketing efforts to retain and attract similar profiles.',\n",
       "  'data_sources': ['customer.csv', 'payments.csv'],\n",
       "  'columns_utilized': ['customer.csv.customerNumber',\n",
       "   'customer.csv.customerName',\n",
       "   'payments.csv.customerNumber',\n",
       "   'payments.csv.amount'],\n",
       "  'relationships_leveraged': 'The customerNumber column in both customer.csv and payments.csv is used to link each payment record back to the respective customer, enabling aggregation of total spending per customer.'},\n",
       " {'use_case_id': 'C003',\n",
       "  'title': 'Analyze Order Fulfillment Timeliness to Improve Service Quality',\n",
       "  'description': 'Evaluate the timeliness and efficiency of order fulfillment by comparing order dates with shipment dates. This use case aims at enhancing operational efficiency by identifying delays in shipping and improving customer satisfaction.',\n",
       "  'data_sources': ['orders.csv'],\n",
       "  'columns_utilized': ['orders.csv.orderDate',\n",
       "   'orders.csv.shippedDate',\n",
       "   'orders.csv.requiredDate'],\n",
       "  'relationships_leveraged': 'The orderDate, shippedDate, and requiredDate columns in orders.csv provide a timeline to measure the adherence to delivery timelines.'},\n",
       " {'use_case_id': 'C004',\n",
       "  'title': 'Evaluate Sales Rep Performance by Customer Sales Contributions',\n",
       "  'description': 'Quantify sales contributions from customers managed by different sales representatives. This use case aims at improving customer service and revenue generation by assessing the performance of each sales rep based on their managed accounts.',\n",
       "  'data_sources': ['customer.csv', 'orders.csv'],\n",
       "  'columns_utilized': ['customer.csv.customerNumber',\n",
       "   'customer.csv.salesRepEmployeeNumber',\n",
       "   'orders.csv.orderNumber',\n",
       "   'orders.csv.customerNumber'],\n",
       "  'relationships_leveraged': 'The customerNumber column links orders with customers, while salesRepEmployeeNumber associates each customer to their respective sales representative.'},\n",
       " {'use_case_id': 'C005',\n",
       "  'title': 'Assess Product Profit Margins Across Different Categories',\n",
       "  'description': 'Calculate profit margins for different product categories based on buyPrice and MSRP. This use case aims at optimizing inventory management by focusing on high-margin products while reducing the stock of low-margin items.',\n",
       "  'data_sources': ['products.csv'],\n",
       "  'columns_utilized': ['products.csv.productCode',\n",
       "   'products.csv.buyPrice',\n",
       "   'products.csv.MSRP',\n",
       "   'products.csv.productLine'],\n",
       "  'relationships_leveraged': 'The productLine column categorizes products, while buyPrice and MSRP allow for the calculation of profit margins per category.'}]"
      ]
     },
     "execution_count": 78,
     "metadata": {},
     "output_type": "execute_result"
    }
   ],
   "source": [
    "data['use_cases']"
   ]
  }
 ],
 "metadata": {
  "kernelspec": {
   "display_name": "autogen_v2",
   "language": "python",
   "name": "python3"
  },
  "language_info": {
   "codemirror_mode": {
    "name": "ipython",
    "version": 3
   },
   "file_extension": ".py",
   "mimetype": "text/x-python",
   "name": "python",
   "nbconvert_exporter": "python",
   "pygments_lexer": "ipython3",
   "version": "3.11.9"
  }
 },
 "nbformat": 4,
 "nbformat_minor": 2
}
