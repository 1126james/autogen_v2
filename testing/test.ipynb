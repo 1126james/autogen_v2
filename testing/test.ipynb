{
 "cells": [
  {
   "cell_type": "code",
   "execution_count": 5,
   "metadata": {},
   "outputs": [
    {
     "name": "stderr",
     "output_type": "stream",
     "text": [
      "Processing 13 columns (customer.csv)                                   \u001b[32m██████████████████████████████\u001b[0m|  13/13  \n",
      "Processing 8 columns (employee.csv)                                    \u001b[32m██████████████████████████████\u001b[0m|   8/8   \n",
      "Processing 9 columns (office.csv)                                      \u001b[32m██████████████████████████████\u001b[0m|   9/9   \n",
      "Processing 5 columns (orderdetails.csv)                                \u001b[32m██████████████████████████████\u001b[0m|   5/5   \n",
      "Processing 7 columns (orders.csv)                                      \u001b[32m██████████████████████████████\u001b[0m|   7/7   \n",
      "Processing 4 columns (payments.csv)                                    \u001b[32m██████████████████████████████\u001b[0m|   4/4   \n",
      "Processing 4 columns (productlines.csv)                                \u001b[32m██████████████████████████████\u001b[0m|   4/4   \n",
      "Processing 9 columns (products.csv)                                    \u001b[32m██████████████████████████████\u001b[0m|   9/9   \n"
     ]
    }
   ],
   "source": [
    "import pandas as pd\n",
    "from pathlib import Path\n",
    "from utils import GetDatasetProfile\n",
    "import os\n",
    "import asyncio\n",
    "import tqdm\n",
    "root = '../sheets/mysql/'\n",
    "files_names: list[str] = os.listdir(path=root)\n",
    "files_names\n",
    "tasks = [GetDatasetProfile(root, file_name = file) for file in files_names]\n",
    "results = await asyncio.gather(*tasks)"
   ]
  },
  {
   "cell_type": "code",
   "execution_count": 14,
   "metadata": {},
   "outputs": [
    {
     "data": {
      "text/plain": [
       "'\\n# Dataset Profile\\nTotal columns: 13\\n\\n## Column Details\\n| Column Name | Data Type | Sample Value | Stats | Additional Info |\\n|------------|-----------|--------------|-------|------------------|\\n| customerNumber | int64 | 103 | Total: 122, Nulls: 0 (0.0%), Unique: 122 | Mean: 296.4<br>Median: 298.5<br>Range: [103, 496] |\\n| customerName | object | Atelier graphique | Total: 122, Nulls: 0 (0.0%), Unique: 122 | - |\\n| contactLastName | object | Schmitt | Total: 122, Nulls: 0 (0.0%), Unique: 108 | - |\\n| contactFirstName | object | Carine  | Total: 122, Nulls: 0 (0.0%), Unique: 111 | - |\\n| phone | object | 40.32.2555 | Total: 122, Nulls: 0 (0.0%), Unique: 121 | - |\\n| addressLine1 | object | 54, rue Royale | Total: 122, Nulls: 0 (0.0%), Unique: 122 | - |\\n| addressLine2 | object | Level 3 | Total: 122, Nulls: 100 (82.0%), Unique: 21 | - |\\n| city | object | Nantes | Total: 122, Nulls: 0 (0.0%), Unique: 96 | - |\\n| state | object | NV | Total: 122, Nulls: 73 (59.8%), Unique: 18 | - |\\n| postalCode | object | 44000 | Total: 122, Nulls: 7 (5.7%), Unique: 94 | - |\\n| country | object | France | Total: 122, Nulls: 0 (0.0%), Unique: 28 | - |\\n| salesRepEmployeeNumber | int64 | 1370 | Total: 122, Nulls: 0 (0.0%), Unique: 16 | Mean: 1144.21<br>Median: 1330.0<br>Range: [0, 1702] |\\n| creditLimit | float64 | 21000.0 | Total: 122, Nulls: 0 (0.0%), Unique: 93 | Mean: 67659.02<br>Median: 76700.0<br>Range: [0.0, 227600.0] |\\n'"
      ]
     },
     "execution_count": 14,
     "metadata": {},
     "output_type": "execute_result"
    }
   ],
   "source": [
    "result_dict = zip(files_names, results)\n",
    "list(result_dict)[0][1]"
   ]
  },
  {
   "cell_type": "code",
   "execution_count": 55,
   "metadata": {},
   "outputs": [],
   "source": [
    "async def create(number: int, filename) -> int:\n",
    "    id = number\n",
    "    agent_name = f'agent_{id}_for_{filename}'\n",
    "    print(f'creating file handling agent for file: {filename}')\n",
    "    return agent_name"
   ]
  },
  {
   "cell_type": "code",
   "execution_count": 56,
   "metadata": {},
   "outputs": [],
   "source": [
    "tasks = [create(number, filename=files_names[number]) for number in range(len(files_names))]"
   ]
  },
  {
   "cell_type": "code",
   "execution_count": 57,
   "metadata": {},
   "outputs": [
    {
     "name": "stdout",
     "output_type": "stream",
     "text": [
      "creating file handling agent for file: customer.csv\n",
      "creating file handling agent for file: employee.csv\n",
      "creating file handling agent for file: office.csv\n",
      "creating file handling agent for file: orderdetails.csv\n",
      "creating file handling agent for file: orders.csv\n",
      "creating file handling agent for file: payments.csv\n",
      "creating file handling agent for file: productlines.csv\n",
      "creating file handling agent for file: products.csv\n"
     ]
    },
    {
     "data": {
      "text/plain": [
       "['agent_0_for_customer.csv',\n",
       " 'agent_1_for_employee.csv',\n",
       " 'agent_2_for_office.csv',\n",
       " 'agent_3_for_orderdetails.csv',\n",
       " 'agent_4_for_orders.csv',\n",
       " 'agent_5_for_payments.csv',\n",
       " 'agent_6_for_productlines.csv',\n",
       " 'agent_7_for_products.csv']"
      ]
     },
     "execution_count": 57,
     "metadata": {},
     "output_type": "execute_result"
    }
   ],
   "source": [
    "await asyncio.gather(*tasks)"
   ]
  }
 ],
 "metadata": {
  "kernelspec": {
   "display_name": "autogen_v2",
   "language": "python",
   "name": "python3"
  },
  "language_info": {
   "codemirror_mode": {
    "name": "ipython",
    "version": 3
   },
   "file_extension": ".py",
   "mimetype": "text/x-python",
   "name": "python",
   "nbconvert_exporter": "python",
   "pygments_lexer": "ipython3",
   "version": "3.11.9"
  }
 },
 "nbformat": 4,
 "nbformat_minor": 2
}
