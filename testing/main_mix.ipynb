{
 "cells": [
  {
   "cell_type": "code",
   "execution_count": 47,
   "metadata": {},
   "outputs": [],
   "source": [
    "# Somehow in mac, it cant find local packages\n",
    "# Run this to solve no local modules found in mac\n",
    "import os\n",
    "import sys\n",
    "\n",
    "# Get the project root directory (assuming your notebook is in a subdirectory)\n",
    "project_root = os.path.abspath(os.path.join(os.getcwd(), '..'))\n",
    "if project_root not in sys.path:\n",
    "    sys.path.append(project_root)\n"
   ]
  },
  {
   "cell_type": "code",
   "execution_count": 48,
   "metadata": {},
   "outputs": [],
   "source": [
    "# Somehow in mac, it cant find local packages\n",
    "# Run this to solve no local modules found in mac\n",
    "import os\n",
    "import sys\n",
    "\n",
    "# Get the project root directory (assuming your notebook is in a subdirectory)\n",
    "project_root = os.path.abspath(os.path.join(os.getcwd(), '..'))\n",
    "if project_root not in sys.path:\n",
    "    sys.path.append(project_root)\n",
    "\n",
    "\n",
    "# Python lib\n",
    "import asyncio\n",
    "import os\n",
    "\n",
    "# Autogen-0.4\n",
    "from autogen_agentchat.agents import AssistantAgent\n",
    "\n",
    "from autogen_agentchat.messages import TextMessage\n",
    "from autogen_ext.models.openai import OpenAIChatCompletionClient\n",
    "\n",
    "# Local\n",
    "from utils import get_dataset_profile, get_columns_sample, initialize_individual_chat, jsonify_prompt\n",
    "from prompts import data_dict_summarizer_prompt"
   ]
  },
  {
   "cell_type": "code",
   "execution_count": 49,
   "metadata": {},
   "outputs": [],
   "source": [
    "root = '../sheets/mysql/'\n",
    "files: list[str] = os.listdir(path=root)\n",
    "\n",
    "# Uses utils/get_dataset_profile\n",
    "# tasks = [get_dataset_profile(root, file_name = file, output_format='json') for file in files]\n",
    "\n",
    "# # Uses utils/get_columns_sample\n",
    "tasks = [get_columns_sample(root, file_name = file) for file in files]\n",
    "\n",
    "results = await asyncio.gather(*tasks)\n",
    "result_dict = zip(files, results)\n",
    "results = list(result_dict)"
   ]
  },
  {
   "cell_type": "code",
   "execution_count": 57,
   "metadata": {},
   "outputs": [],
   "source": [
    "data_dict_generator = \"qwen2.5:32b-instruct-q8_0\"\n",
    "data_dict_summarizer = \"deepseek-r1:32b-qwen-distill-q8_0-131072\"\n",
    "\n",
    "# Common config\n",
    "llm_base_url = \"http://34.204.63.234:11434/v1\"\n",
    "api_key = \"none\"\n",
    "model_info_generator =  {\n",
    "        \"vision\": False,\n",
    "        \"function_calling\": False,\n",
    "        \"json_output\": True,\n",
    "        \"family\": \"Qwen2.5\"\n",
    "    }\n",
    "model_info_summarizer =  {\n",
    "        \"vision\": False,\n",
    "        \"function_calling\": False,\n",
    "        \"json_output\": False,\n",
    "        \"family\": \"DeepSeek-r1\"\n",
    "    }\n",
    "\n",
    "# Create reasoning config\n",
    "# Just generate the data dict based on obervered facts\n",
    "data_dict_summarizer_client = OpenAIChatCompletionClient(\n",
    "    frequency_penalty=0.2, \n",
    "    logit_bias=None, \n",
    "    max_tokens=128000,\n",
    "    presence_penalty=0.5, \n",
    "    seed=42, \n",
    "    temperature=0.8, \n",
    "    top_p=0.95, \n",
    "    model=data_dict_summarizer,\n",
    "    api_key='none',  \n",
    "    model_info=model_info_summarizer, \n",
    "    base_url='http://34.204.63.234:11434/v1'\n",
    "    )\n",
    "\n",
    "# Just generate the data dict based on obervered facts\n",
    "data_dict_generator_client = OpenAIChatCompletionClient(\n",
    "    frequency_penalty=0.4, \n",
    "    logit_bias=None, \n",
    "    max_tokens=2048, \n",
    "    presence_penalty=0.3, \n",
    "    response_format={\"type\": \"json_object\"},\n",
    "    seed=42, \n",
    "    temperature=0.2, \n",
    "    top_p=0.7, \n",
    "    model=data_dict_generator,\n",
    "    api_key='none', \n",
    "    model_info=model_info_generator, \n",
    "    base_url='http://34.204.63.234:11434/v1')\n",
    "\n"
   ]
  },
  {
   "cell_type": "code",
   "execution_count": 51,
   "metadata": {},
   "outputs": [
    {
     "name": "stdout",
     "output_type": "stream",
     "text": [
      "\n",
      "Responses received: 8\n",
      "[Response(chat_message=TextMessage(source='File_handler_products_csv', models_usage=RequestUsage(prompt_tokens=828, completion_tokens=796), content='{\\n  \"Data Dictionary\": {\\n    \"filename\": \"products.csv\",\\n    \"columns\": [\\n      {\\n        \"Column\": \"productCode\",\\n        \"Description\": \"Unique identifier for each product.\",\\n        \"Format\": \"Identifier: Starts with a letter followed by numbers (e.g., S10_1678).\",\\n        \"Nullable\": false,\\n        \"Sample Values\": [\"S10_1678\", \"S10_1949\", \"S10_2016\"]\\n      },\\n      {\\n        \"Column\": \"productName\",\\n        \"Description\": \"Name of the product.\",\\n        \"Format\": \"Text: Contains free-form text strings representing names (e.g., 1969 Harley Davidson Ultimate Chopper).\",\\n        \"Nullable\": false,\\n        \"Sample Values\": [\"1969 Harley Davidson Ultimate Chopper\", \"1952 Alpine Renault 1300\", \"1996 Moto Guzzi 1100i\"]\\n      },\\n      {\\n        \"Column\": \"productLine\",\\n        \"Description\": \"Category or line to which the product belongs.\",\\n        \"Format\": \"Categorical: Represents categories such as Motorcycles, Classic Cars (e.g., Motorcycles).\",\\n        \"Nullable\": false,\\n        \"Sample Values\": [\"Motorcycles\", \"Classic Cars\", \"Motorcycles\"]\\n      },\\n      {\\n        \"Column\": \"productScale\",\\n        \"Description\": \"The scale at which the product is made.\",\\n        \"Format\": \"Text: Represents a ratio (e.g., 1:10).\",\\n        \"Nullable\": false,\\n        \"Sample Values\": [\"1:10\", \"1:10\", \"1:10\"]\\n      },\\n      {\\n        \"Column\": \"productVendor\",\\n        \"Description\": \"The vendor or manufacturer of the product.\",\\n        \"Format\": \"Text: Contains free-form text strings representing names (e.g., Min Lin Diecast).\",\\n        \"Nullable\": false,\\n        \"Sample Values\": [\"Min Lin Diecast\", \"Classic Metal Creations\", \"Highway 66 Mini Classics\"]\\n      },\\n      {\\n        \"Column\": \"productDescription\",\\n        \"Description\": \"Detailed description of the product.\",\\n        \"Format\": \"Text: Contains free-form text strings describing features and specifications (e.g., This replica features working kickstand, front suspension...).\",\\n        \"Nullable\": false,\\n        \"Sample Values\": [\"This replica features working kickstand, front suspension...\", \"Turnable front wheels, steering function, detailed interior...\", \"Official Moto Guzzi logos and insignias, saddle bags located on side of motorcycle...\"]\\n      },\\n      {\\n        \"Column\": \"quantityInStock\",\\n        \"Description\": \"The quantity of the product currently in stock.\",\\n        \"Format\": \"Numeric: Represents integers (e.g., 7933).\",\\n        \"Nullable\": false,\\n        \"Sample Values\": [\"7933\", \"7305\", \"6625\"]\\n      },\\n      {\\n        \"Column\": \"buyPrice\",\\n        \"Description\": \"The price at which the product is bought.\",\\n        \"Format\": \"Numeric: Represents decimal numbers (e.g., 48.81).\",\\n        \"Nullable\": false,\\n        \"Sample Values\": [\"48.81\", \"98.58\", \"68.99\"]\\n      },\\n      {\\n        \"Column\": \"MSRP\",\\n        \"Description\": \"Manufacturer\\'s Suggested Retail Price for the product.\",\\n        \"Format\": \"Numeric: Represents decimal numbers (e.g., 95.7).\",\\n        \"Nullable\": false,\\n        \"Sample Values\": [\"95.7\", \"214.3\", \"118.94\"]\\n      }\\n    ]\\n  }\\n}', type='TextMessage'), inner_messages=[]), Response(chat_message=TextMessage(source='File_handler_orders_csv', models_usage=RequestUsage(prompt_tokens=674, completion_tokens=566), content='{\\n  \"Data Dictionary\": {\\n    \"filename\": \"orders.csv\",\\n    \"columns\": [\\n      {\\n        \"Column\": \"orderNumber\",\\n        \"Description\": \"A unique identifier for each order.\",\\n        \"Format\": \"Identifier: Starts with a number and consists of integers only.\",\\n        \"Nullable\": false,\\n        \"Sample Values\": [\"10100\", \"10101\", \"10102\"]\\n      },\\n      {\\n        \"Column\": \"orderDate\",\\n        \"Description\": \"The date when the order was placed.\",\\n        \"Format\": \"Datetime: YYYY-MM-DD format.\",\\n        \"Nullable\": false,\\n        \"Sample Values\": [\"2003-01-06\", \"2003-01-09\", \"2003-01-10\"]\\n      },\\n      {\\n        \"Column\": \"requiredDate\",\\n        \"Description\": \"The date by which the order is required to be completed.\",\\n        \"Format\": \"Datetime: YYYY-MM-DD format.\",\\n        \"Nullable\": false,\\n        \"Sample Values\": [\"2003-01-13\", \"2003-01-18\", \"2003-01-18\"]\\n      },\\n      {\\n        \"Column\": \"shippedDate\",\\n        \"Description\": \"The date when the order was shipped.\",\\n        \"Format\": \"Datetime: YYYY-MM-DD format.\",\\n        \"Nullable\": false,\\n        \"Sample Values\": [\"2003-01-10\", \"2003-01-11\", \"2003-01-14\"]\\n      },\\n      {\\n        \"Column\": \"status\",\\n        \"Description\": \"The current status of the order.\",\\n        \"Format\": \"Categorical: Represents categories like \\'Shipped\\', etc.\",\\n        \"Nullable\": false,\\n        \"Sample Values\": [\"Shipped\", \"Shipped\", \"Shipped\"]\\n      },\\n      {\\n        \"Column\": \"comments\",\\n        \"Description\": \"Additional comments or notes related to the order.\",\\n        \"Format\": \"Text: Contains free-form text strings.\",\\n        \"Nullable\": true,\\n        \"Sample Values\": [\"Check on availability.\", \"Difficult to negotiate with customer. We need more marketing materials\", \"Customer requested that FedEx Ground is used for this shipping\"]\\n      },\\n      {\\n        \"Column\": \"customerNumber\",\\n        \"Description\": \"A unique identifier for each customer.\",\\n        \"Format\": \"Identifier: Starts with a number and consists of integers only.\",\\n        \"Nullable\": false,\\n        \"Sample Values\": [\"363\", \"128\", \"181\"]\\n      }\\n    ]\\n  }\\n}', type='TextMessage'), inner_messages=[]), Response(chat_message=TextMessage(source='File_handler_employee_csv', models_usage=RequestUsage(prompt_tokens=618, completion_tokens=593), content='{\\n  \"Data Dictionary\": {\\n    \"filename\": \"employee.csv\",\\n    \"columns\": [\\n      {\\n        \"Column\": \"employeeNumber\",\\n        \"Description\": \"Unique identifier for each employee.\",\\n        \"Format\": \"Identifier: Starts with a number, no specific pattern beyond being numeric.\",\\n        \"Nullable\": false,\\n        \"Sample Values\": [\"1002\", \"1056\", \"1076\"]\\n      },\\n      {\\n        \"Column\": \"lastName\",\\n        \"Description\": \"Last name of the employee.\",\\n        \"Format\": \"Text: Contains alphabetic characters only, representing last names.\",\\n        \"Nullable\": false,\\n        \"Sample Values\": [\"Murphy\", \"Patterson\", \"Firrelli\"]\\n      },\\n      {\\n        \"Column\": \"firstName\",\\n        \"Description\": \"First name of the employee.\",\\n        \"Format\": \"Text: Contains alphabetic characters only, representing first names.\",\\n        \"Nullable\": false,\\n        \"Sample Values\": [\"Diane\", \"Mary\", \"Jeff\"]\\n      },\\n      {\\n        \"Column\": \"extension\",\\n        \"Description\": \"Employee\\'s extension number used for internal communication.\",\\n        \"Format\": \"Identifier: Starts with \\'x\\' followed by numbers, e.g., x5800.\",\\n        \"Nullable\": false,\\n        \"Sample Values\": [\"x5800\", \"x4611\", \"x9273\"]\\n      },\\n      {\\n        \"Column\": \"email\",\\n        \"Description\": \"Employee\\'s email address used for communication within the company.\",\\n        \"Format\": \"Text: Email addresses ending with \\'@classicmodelcars.com\\'.\",\\n        \"Nullable\": false,\\n        \"Sample Values\": [\"dmurphy@classicmodelcars.com\", \"mpatterso@classicmodelcars.com\", \"jfirrelli@classicmodelcars.com\"]\\n      },\\n      {\\n        \"Column\": \"officeCode\",\\n        \"Description\": \"Identifier for the office where the employee works.\",\\n        \"Format\": \"Numeric: Integer values representing different offices.\",\\n        \"Nullable\": false,\\n        \"Sample Values\": [\"1\", \"1\", \"1\"]\\n      },\\n      {\\n        \"Column\": \"reportsTo\",\\n        \"Description\": \"Employee number of the person to whom this employee reports, \\'0\\' if no one.\",\\n        \"Format\": \"Identifier: Starts with a number, can be \\'0\\'.\",\\n        \"Nullable\": false,\\n        \"Sample Values\": [\"0\", \"1002\", \"1002\"]\\n      },\\n      {\\n        \"Column\": \"jobTitle\",\\n        \"Description\": \"Job title of the employee.\",\\n        \"Format\": \"Text: Contains job titles, e.g., President, VP Sales.\",\\n        \"Nullable\": false,\\n        \"Sample Values\": [\"President\", \"VP Sales\", \"VP Marketing\"]\\n      }\\n    ]\\n  }\\n}', type='TextMessage'), inner_messages=[]), Response(chat_message=TextMessage(source='File_handler_office_csv', models_usage=RequestUsage(prompt_tokens=660, completion_tokens=698), content='{\\n  \"Data Dictionary\": {\\n    \"filename\": \"office.csv\",\\n    \"columns\": [\\n      {\\n        \"Column\": \"officeCode\",\\n        \"Description\": \"A unique identifier for each office.\",\\n        \"Format\": \"Identifier: Starts with a number like 1, 2, etc.\",\\n        \"Nullable\": false,\\n        \"Sample Values\": [\"1\", \"2\", \"3\"]\\n      },\\n      {\\n        \"Column\": \"city\",\\n        \"Description\": \"The city where the office is located.\",\\n        \"Format\": \"Text: Contains names of cities.\",\\n        \"Nullable\": false,\\n        \"Sample Values\": [\"San Francisco\", \"Boston\", \"NYC\"]\\n      },\\n      {\\n        \"Column\": \"phone\",\\n        \"Description\": \"Phone number for contacting the office.\",\\n        \"Format\": \"Text: International format with country code like +1 650 219 4782.\",\\n        \"Nullable\": false,\\n        \"Sample Values\": [\"+1 650 219 4782\", \"+1 215 837 0825\", \"+1 212 555 3000\"]\\n      },\\n      {\\n        \"Column\": \"addressLine1\",\\n        \"Description\": \"The first line of the office\\'s address.\",\\n        \"Format\": \"Text: Contains street and number like \\'100 Market Street\\'.\",\\n        \"Nullable\": false,\\n        \"Sample Values\": [\"100 Market Street\", \"1550 Court Place\", \"523 East 53rd Street\"]\\n      },\\n      {\\n        \"Column\": \"addressLine2\",\\n        \"Description\": \"The second line of the office\\'s address, often includes suite or apartment number.\",\\n        \"Format\": \"Text: Contains additional location details like \\'Suite 300\\'.\",\\n        \"Nullable\": true,\\n        \"Sample Values\": [\"Suite 300\", \"Suite 102\", \"apt. 5A\"]\\n      },\\n      {\\n        \"Column\": \"state\",\\n        \"Description\": \"The state where the office is located.\",\\n        \"Format\": \"Text: Contains two-letter abbreviations like \\'CA\\'.\",\\n        \"Nullable\": false,\\n        \"Sample Values\": [\"CA\", \"MA\", \"NY\"]\\n      },\\n      {\\n        \"Column\": \"country\",\\n        \"Description\": \"The country where the office is located.\",\\n        \"Format\": \"Categorical: Contains names of countries, in this case only \\'USA\\'.\",\\n        \"Nullable\": false,\\n        \"Sample Values\": [\"USA\", \"USA\", \"USA\"]\\n      },\\n      {\\n        \"Column\": \"postalCode\",\\n        \"Description\": \"The postal code for the office\\'s address.\",\\n        \"Format\": \"Text: Contains numeric codes like \\'94080\\'.\",\\n        \"Nullable\": false,\\n        \"Sample Values\": [\"94080\", \"02107\", \"10022\"]\\n      },\\n      {\\n        \"Column\": \"territory\",\\n        \"Description\": \"The territory the office belongs to.\",\\n        \"Format\": \"Categorical: Contains regions like \\'EMEA\\', \\'Japan\\'.\",\\n        \"Nullable\": false,\\n        \"Sample Values\": [\"EMEA\", \"Japan\", \"APAC\"]\\n      }\\n    ]\\n  }\\n}', type='TextMessage'), inner_messages=[]), Response(chat_message=TextMessage(source='File_handler_customer_csv', models_usage=RequestUsage(prompt_tokens=751, completion_tokens=1031), content='{\\n  \"Data Dictionary\": {\\n    \"filename\": \"customer.csv\",\\n    \"columns\": [\\n      {\\n        \"Column\": \"customerNumber\",\\n        \"Description\": \"Unique identifier for each customer.\",\\n        \"Format\": \"Identifier: Starts with a number like 103, 112, etc.\",\\n        \"Nullable\": false,\\n        \"Sample Values\": [\"103\", \"112\", \"114\"]\\n      },\\n      {\\n        \"Column\": \"customerName\",\\n        \"Description\": \"The name of the customer company or individual.\",\\n        \"Format\": \"Text: Contains free-form text strings like \\'Atelier graphique\\'.\",\\n        \"Nullable\": false,\\n        \"Sample Values\": [\"Atelier graphique\", \"Signal Gift Stores\", \"Australian Collectors, Co.\"]\\n      },\\n      {\\n        \"Column\": \"contactLastName\",\\n        \"Description\": \"The last name of the primary contact person for the customer.\",\\n        \"Format\": \"Text: Contains free-form text strings like \\'Schmitt\\'.\",\\n        \"Nullable\": false,\\n        \"Sample Values\": [\"Schmitt\", \"King\", \"Ferguson\"]\\n      },\\n      {\\n        \"Column\": \"contactFirstName\",\\n        \"Description\": \"The first name of the primary contact person for the customer.\",\\n        \"Format\": \"Text: Contains free-form text strings like \\'Carine\\'.\",\\n        \"Nullable\": false,\\n        \"Sample Values\": [\"Carine \", \"Jean\", \"Peter\"]\\n      },\\n      {\\n        \"Column\": \"phone\",\\n        \"Description\": \"The phone number of the primary contact person for the customer.\",\\n        \"Format\": \"Text: Contains free-form text strings like \\'40.32.2555\\'.\",\\n        \"Nullable\": false,\\n        \"Sample Values\": [\"40.32.2555\", \"7025551838\", \"03 9520 4555\"]\\n      },\\n      {\\n        \"Column\": \"addressLine1\",\\n        \"Description\": \"The first line of the customer\\'s address.\",\\n        \"Format\": \"Text: Contains free-form text strings like \\'54, rue Royale\\'.\",\\n        \"Nullable\": false,\\n        \"Sample Values\": [\"54, rue Royale\", \"8489 Strong St.\", \"636 St Kilda Road\"]\\n      },\\n      {\\n        \"Column\": \"addressLine2\",\\n        \"Description\": \"The second line of the customer\\'s address.\",\\n        \"Format\": \"Text: Contains free-form text strings like \\'Level 3\\'.\",\\n        \"Nullable\": false,\\n        \"Sample Values\": [\"Level 3\", \"Bronz Apt. 3/6 Tesvikiye\", \"Suite 400\"]\\n      },\\n      {\\n        \"Column\": \"city\",\\n        \"Description\": \"The city where the customer is located.\",\\n        \"Format\": \"Text: Contains free-form text strings like \\'Nantes\\'.\",\\n        \"Nullable\": false,\\n        \"Sample Values\": [\"Nantes\", \"Las Vegas\", \"Melbourne\"]\\n      },\\n      {\\n        \"Column\": \"state\",\\n        \"Description\": \"The state or province where the customer is located.\",\\n        \"Format\": \"Text: Contains free-form text strings like \\'NV\\'.\",\\n        \"Nullable\": false,\\n        \"Sample Values\": [\"NV\", \"\", \"\"]\\n      },\\n      {\\n        \"Column\": \"postalCode\",\\n        \"Description\": \"The postal code of the customer\\'s address.\",\\n        \"Format\": \"Identifier: Starts with a number like 44000, 83030, etc.\",\\n        \"Nullable\": false,\\n        \"Sample Values\": [\"44000\", \"83030\", \"3004\"]\\n      },\\n      {\\n        \"Column\": \"country\",\\n        \"Description\": \"The country where the customer is located.\",\\n        \"Format\": \"Text: Contains free-form text strings like \\'France\\'.\",\\n        \"Nullable\": false,\\n        \"Sample Values\": [\"France\", \"USA\", \"Australia\"]\\n      },\\n      {\\n        \"Column\": \"salesRepEmployeeNumber\",\\n        \"Description\": \"Unique identifier for each sales representative employee associated with the customer.\",\\n        \"Format\": \"Identifier: Starts with a number like 1370, 1166, etc.\",\\n        \"Nullable\": false,\\n        \"Sample Values\": [\"1370\", \"1166\", \"1611\"]\\n      },\\n      {\\n        \"Column\": \"creditLimit\",\\n        \"Description\": \"The credit limit assigned to the customer.\",\\n        \"Format\": \"Numeric: Decimal numbers like 21000.0, 71800.0, etc.\",\\n        \"Nullable\": false,\\n        \"Sample Values\": [\"21000.0\", \"71800.0\", \"117300.0\"]\\n      }\\n    ]\\n  }\\n}', type='TextMessage'), inner_messages=[]), Response(chat_message=TextMessage(source='File_handler_productlines_csv', models_usage=RequestUsage(prompt_tokens=826, completion_tokens=393), content='{\\n  \"Data Dictionary\": {\\n    \"filename\": \"productlines.csv\",\\n    \"columns\": [\\n      {\\n        \"Column\": \"productLine\",\\n        \"Description\": \"Category of product lines available.\",\\n        \"Format\": \"Categorical\",\\n        \"Nullable\": false,\\n        \"Sample Values\": [\"Classic Cars\", \"Motorcycles\", \"Planes\"]\\n      },\\n      {\\n        \"Column\": \"textDescription\",\\n        \"Description\": \"Detailed textual description about the products in each category, highlighting features and specifications.\",\\n        \"Format\": \"Text\",\\n        \"Nullable\": false,\\n        \"Sample Values\": [\\n          \"Attention car enthusiasts: Make your wildest car ownership dreams come true. Whether you are looking for classic muscle cars, dream sports cars or movie-inspired miniatures, you will find great choices in this category. These replicas feature superb attention to detail and craftsmanship...\",\\n          \"Our motorcycles are state of the art replicas of classic as well as contemporary motorcycle legends such as Harley Davidson, Ducati and Vespa. Models contain stunning details such as official logos, rotating wheels, working kickstand, front suspension, gear-shift lever,...\",\\n          \"Unique, diecast airplane and helicopter replicas suitable for collections, as well as home, office or classroom decorations. Models contain stunning details such as official logos and insignias, rotating jet engines and propellers, retractable wheels...\"\\n        ]\\n      },\\n      {\\n        \"Column\": \"htmlDescription\",\\n        \"Description\": \"HTML formatted description of the product lines.\",\\n        \"Format\": \"Text (HTML)\",\\n        \"Nullable\": true,\\n        \"Sample Values\": [null, null, null]\\n      },\\n      {\\n        \"Column\": \"image\",\\n        \"Description\": \"Image representation or link to an image for each product line category.\",\\n        \"Format\": \"None\",\\n        \"Nullable\": true,\\n        \"Sample Values\": [null, null, null]\\n      }\\n    ]\\n  }\\n}', type='TextMessage'), inner_messages=[]), Response(chat_message=TextMessage(source='File_handler_payments_csv', models_usage=RequestUsage(prompt_tokens=581, completion_tokens=345), content='{\\n  \"Data Dictionary\": {\\n    \"filename\": \"payments.csv\",\\n    \"columns\": [\\n      {\\n        \"Column\": \"customerNumber\",\\n        \"Description\": \"A unique identifier for each customer.\",\\n        \"Format\": \"Identifier: Starts with a number like 103\",\\n        \"Nullable\": false,\\n        \"Sample Values\": [\"103\", \"103\", \"103\"]\\n      },\\n      {\\n        \"Column\": \"checkNumber\",\\n        \"Description\": \"A unique identifier for each payment check.\",\\n        \"Format\": \"Identifier: Starts with two letters followed by numbers like HQ336336\",\\n        \"Nullable\": false,\\n        \"Sample Values\": [\"HQ336336\", \"JM555205\", \"OM314933\"]\\n      },\\n      {\\n        \"Column\": \"paymentDate\",\\n        \"Description\": \"The date when the payment was made.\",\\n        \"Format\": \"Datetime: YYYY-MM-DD\",\\n        \"Nullable\": false,\\n        \"Sample Values\": [\"2004-10-19\", \"2003-06-05\", \"2004-12-18\"]\\n      },\\n      {\\n        \"Column\": \"amount\",\\n        \"Description\": \"The amount of money paid.\",\\n        \"Format\": \"Numeric: Decimal with two decimal places like 6066.78\",\\n        \"Nullable\": false,\\n        \"Sample Values\": [\"6066.78\", \"14571.44\", \"1676.14\"]\\n      }\\n    ]\\n  }\\n}', type='TextMessage'), inner_messages=[]), Response(chat_message=TextMessage(source='File_handler_orderdetails_csv', models_usage=RequestUsage(prompt_tokens=576, completion_tokens=396), content='{\\n  \"Data Dictionary\": {\\n    \"filename\": \"orderdetails.csv\",\\n    \"columns\": [\\n      {\\n        \"Column\": \"orderNumber\",\\n        \"Description\": \"The unique identifier for each order.\",\\n        \"Format\": \"Identifier: Starts with a number, no specific pattern provided in samples.\",\\n        \"Nullable\": false,\\n        \"Sample Values\": [\"10100\", \"10100\", \"10100\"]\\n      },\\n      {\\n        \"Column\": \"productCode\",\\n        \"Description\": \"The unique identifier for each product.\",\\n        \"Format\": \"Identifier: Starts with \\'S\\', followed by two digits and four more digits or letters.\",\\n        \"Nullable\": false,\\n        \"Sample Values\": [\"S18_1749\", \"S18_2248\", \"S18_4409\"]\\n      },\\n      {\\n        \"Column\": \"quantityOrdered\",\\n        \"Description\": \"The quantity of the product ordered.\",\\n        \"Format\": \"Numeric: Integer values representing quantities.\",\\n        \"Nullable\": false,\\n        \"Sample Values\": [\"30\", \"50\", \"22\"]\\n      },\\n      {\\n        \"Column\": \"priceEach\",\\n        \"Description\": \"The price for each unit of the product ordered.\",\\n        \"Format\": \"Numeric: Decimal numbers with up to two decimal places representing currency values.\",\\n        \"Nullable\": false,\\n        \"Sample Values\": [\"136.0\", \"55.09\", \"75.46\"]\\n      },\\n      {\\n        \"Column\": \"orderLineNumber\",\\n        \"Description\": \"The line number of the order detail within an order, indicating the sequence or position.\",\\n        \"Format\": \"Numeric: Integer values representing positions in a list.\",\\n        \"Nullable\": false,\\n        \"Sample Values\": [\"3\", \"2\", \"4\"]\\n      }\\n    ]\\n  }\\n}', type='TextMessage'), inner_messages=[])]\n"
     ]
    }
   ],
   "source": [
    "# Create a list of tasks for all agents\n",
    "tasks = [initialize_individual_chat(filename=results[index][0], metadata=results[index][1], data_dict_generator_client=data_dict_generator_client) for index in range(len(results))]\n",
    "\n",
    "# Execute all agent chat tasks concurrently\n",
    "responses = await asyncio.gather(*tasks)\n",
    "print(f\"\\nResponses received: {len(responses)}\")\n",
    "print(responses)\n"
   ]
  },
  {
   "cell_type": "code",
   "execution_count": 52,
   "metadata": {},
   "outputs": [
    {
     "name": "stdout",
     "output_type": "stream",
     "text": [
      "Data saved to: generation_log/Log_202502051638.log\n"
     ]
    }
   ],
   "source": [
    "# Jsonify and Save log\n",
    "generated_data_dict, log_file_name = await jsonify_prompt(responses)\n"
   ]
  },
  {
   "cell_type": "code",
   "execution_count": 58,
   "metadata": {},
   "outputs": [
    {
     "data": {
      "text/plain": [
       "Response(chat_message=TextMessage(source='Data_Dictionary_Analytics_Suggester', models_usage=RequestUsage(prompt_tokens=5915, completion_tokens=1148), content=\"<think>\\nAlright, so I've got this problem where I need to analyze some data dictionaries and come up with analytics use cases based on that analysis. The instructions are pretty detailed, so I want to make sure I understand everything properly before diving in.\\n\\nFirst off, there are eight different CSV files provided: products, orders, employee, office, customer, productlines, payments, and orderdetails. Each of these has its own set of columns with specific descriptions and formats. My goal is to look at how these datasets relate to each other and then suggest analytics use cases that can leverage those relationships.\\n\\nOkay, let's break it down step by step as per the instructions:\\n\\n1. **Review All Provided Data Dictionaries**: I need to go through each dataset carefully. That means looking at all the columns in products.csv, orders.csv, and so on. It's important not to overlook any dataset or column because every piece of information could be useful.\\n\\n2. **Examine Columns and Relationships**: For each dataset, I should examine what each column represents. For example, in products.csv, there's 'productCode' which is a unique identifier, 'productName', 'productLine', etc. Understanding the relationships within a single dataset is crucial—like how 'quantityInStock' relates to 'buyPrice' or 'MSRP'.\\n\\n3. **Identify Relationships Across Datasets**: This part might be more challenging but also more rewarding. I need to see how columns from one dataset link to another. For instance, 'customerNumber' appears in both customer.csv and orders.csv, which suggests a relationship between customers and their orders.\\n\\n4. **Brainstorm Analytics Use Cases**: Once I have a good grasp of the relationships, I can start thinking about what kind of analyses would be valuable. The use cases should address business objectives like improving sales, optimizing inventory, or understanding customer behavior.\\n\\n5. **Provide Detailed Explanations**: Each suggested use case needs to be actionable and relevant. I must explain how specific columns and their relationships contribute to the insights generated. For example, using 'orderDate' and 'shippedDate' could help in analyzing order fulfillment times.\\n\\n6. **Ensure Clarity and Structure**: The output format is strictly defined, so I need to make sure each use case follows that structure with all necessary fields filled out accurately. This includes assigning a unique ID to each use case for easy reference.\\n\\nThinking about potential analytics use cases, here are some possibilities:\\n\\n- **Sales Performance Analysis**: By linking orders and customers, we can analyze which products sell the most or identify top-performing sales representatives.\\n  \\n- **Inventory Optimization**: Using product stock levels and order data could help in predicting future demand and optimizing inventory to prevent stockouts.\\n\\n- **Customer Segmentation**: Analyzing customer demographics alongside their purchase history might reveal different segments that can be targeted with tailored marketing strategies.\\n\\n- **Order Fulfillment Efficiency**: By examining the time between order placement and shipment, we can assess how efficient our fulfillment process is and identify areas for improvement.\\n\\nEach of these use cases would require leveraging specific columns from multiple datasets. For example, sales performance might involve 'orderNumber', 'productCode' from orders and products, as well as 'customerName' from customers to see who's buying what.\\n\\nI also need to be careful not to make any assumptions beyond the data provided. Everything I suggest must be based solely on the information in the data dictionaries. That means avoiding external knowledge or making up relationships that aren't explicitly clear.\\n\\nAnother important point is ensuring that all suggested use cases are unique and don't duplicate each other's purposes. Each should address a distinct business objective to provide comprehensive insights across various areas of operations.\\n\\nAs I start drafting these use cases, I'll need to reference the exact column names as provided to avoid any discrepancies. Precision is key here because even a slight misnaming could lead to confusion or errors in data analysis.\\n\\nOverall, this task requires a meticulous approach—thoroughly understanding each dataset and its columns, identifying meaningful relationships both within and across datasets, and then translating those insights into actionable analytics use cases that drive business value.\\n</think>\\n\\nThe following list outlines the eight CSV files provided along with their respective primary purposes:\\n\\n1. **products.csv**: Contains details about various products, including unique identifiers, names, categories, descriptions, pricing, and stock information.\\n\\n2. **orders.csv**: Provides information on customer orders, such as order numbers, dates, statuses, and associated customer IDs.\\n\\n3. **employee.csv**: Includes data about employees, such as their identification numbers, names, contact details, roles, and reporting structures.\\n\\n4. **office.csv**: Offers details about company offices, including location specifics like addresses, phone numbers, cities, states, postal codes, countries, and territories.\\n\\n5. **customer.csv**: Contains customer information, including unique identifiers, names, contact details, addresses, sales representatives associated with them, and credit limits.\\n\\n6. **productlines.csv**: Describes product categories with textual and HTML formatted descriptions as well as image links for each category.\\n\\n7. **payments.csv**: Records payment transactions made by customers, capturing check numbers, dates, amounts paid, and customer identifiers.\\n\\n8. **orderdetails.csv**: Provides detailed information about each order, including the products ordered, quantities, prices per item, and line numbers within orders.\\n\\nThese datasets collectively offer a comprehensive view of various business operations, enabling the creation of analytics use cases that can drive strategic decisions across different areas such as sales performance analysis, inventory optimization, customer segmentation, and order fulfillment efficiency. Each use case will be based on specific columns from these datasets, ensuring actionable insights aligned with business objectives.\", type='TextMessage'), inner_messages=[])"
      ]
     },
     "execution_count": 58,
     "metadata": {},
     "output_type": "execute_result"
    }
   ],
   "source": [
    "# Initialize data dict ingestion agent\n",
    "final_agent = AssistantAgent(name=\"Data_Dictionary_Analytics_Suggester\",\n",
    "                             model_client=data_dict_summarizer_client,\n",
    "                             system_message=data_dict_summarizer_prompt()\n",
    ")\n",
    "\n",
    "response = await final_agent.on_messages(\n",
    "        [TextMessage(content=f\"{generated_data_dict}\\n\\nReview the above data dictionary. First by stating the list of data dictionaries received.\\n\\n\",source=\"user\")], None\n",
    "    )\n",
    "response"
   ]
  },
  {
   "cell_type": "code",
   "execution_count": 22,
   "metadata": {},
   "outputs": [
    {
     "name": "stdout",
     "output_type": "stream",
     "text": [
      "<think>\n",
      "Alright, so I need to analyze these data dictionaries and come up with some analytics use cases. Let me start by reviewing each dataset provided.\n",
      "\n",
      "First, there's products.csv which includes details about each product like productCode, productName, productLine, and more financial metrics like buyPrice and MSRP. This seems useful for understanding product performance and profitability.\n",
      "\n",
      "Next is orders.csv, containing order information such as orderNumber, dates (orderDate, requiredDate, shippedDate), status, comments, and customerNumber. This can help in analyzing the order fulfillment process and customer behavior related to orders.\n",
      "\n",
      "Employee.csv has data about employees including their contact info, office details, job titles, and who they report to. This could be used for workforce analytics or understanding organizational structure.\n",
      "\n",
      "Office.csv provides information about different offices like city, phone, address lines, state, country, postal code, and territory. Useful for location-based analysis or optimizing office operations.\n",
      "\n",
      "Customer.csv includes customer details such as name, contact info, address, sales rep number, and credit limit. This can help in understanding customer demographics and their purchasing behavior.\n",
      "\n",
      "Productlines.csv categorizes products into different lines with detailed descriptions but lacks image data currently. It could be used for product line performance analysis.\n",
      "\n",
      "Payments.csv tracks payments made by customers including check numbers, payment dates, and amounts. This is essential for cash flow management and financial reporting.\n",
      "\n",
      "Lastly, orderdetails.csv provides details about each item in an order like quantity ordered, price per unit, etc. Crucial for understanding what exactly was sold and the revenue generated from individual products.\n",
      "\n",
      "Now, thinking about possible analytics use cases:\n",
      "\n",
      "1. **Sales Performance Analysis** - Combining orderDetails with products to see which products are selling well.\n",
      "2. **Profit Margin Calculation** - Using buyPrice and MSRP from products to calculate margins on sold items via orderDetails.\n",
      "3. **Customer Order Trends** - Linking orders with customers to identify frequent buyers or those who purchase large quantities.\n",
      "4. **Employee Sales Contribution** - By joining customer's salesRepEmployeeNumber with employee data, we can see which employees are driving more sales.\n",
      "5. **Inventory Management Insight** - Looking at quantityInStock in products and how it relates to what gets ordered in orderDetails to manage stock levels effectively.\n",
      "\n",
      "Each of these use cases leverages relationships between different datasets, like using customerNumber from orders to link with customers or productCode from orderdetails to connect with products. This cross-dataset analysis will provide deeper insights into business operations.\n",
      "</think>\n",
      "\n",
      "Here is a structured presentation of analytics use cases based on the provided data dictionaries:\n",
      "\n",
      "---\n",
      "\n",
      "### **Analytics Use Cases**\n",
      "\n",
      "1. **Sales Performance Analysis**\n",
      "   - **Description:** Analyze which products are most popular by examining sales quantities and identifying top-selling items across different product lines.\n",
      "   - **Data Sources:** `products.csv`, `orderdetails.csv`\n",
      "   - **Columns Utilized:**\n",
      "     - `products.productCode`, `products.productName`, `products.productLine`\n",
      "     - `orderdetails.orderNumber`, `orderdetails.productCode`, `orderdetails.quantityOrdered`\n",
      "   - **Relationships Leveraged:** Link product codes between products and order details to aggregate sales data.\n",
      "\n",
      "2. **Profit Margin Calculation**\n",
      "   - **Description:** Determine profit margins by comparing buy prices with MSRP for each sold product.\n",
      "   - **Data Sources:** `products.csv`, `orderdetails.csv`\n",
      "   - **Columns Utilized:**\n",
      "     - `products.productCode`, `products.buyPrice`, `products.MSRP`\n",
      "     - `orderdetails.priceEach`, `orderdetails.quantityOrdered`\n",
      "   - **Relationships Leveraged:** Join product details with order specifics to compute margins.\n",
      "\n",
      "3. **Customer Order Trends**\n",
      "   - **Description:** Identify purchasing patterns and preferences by analyzing customer orders over time.\n",
      "   - **Data Sources:** `orders.csv`, `customers.csv`\n",
      "   - **Columns Utilized:**\n",
      "     - `orders.orderNumber`, `orders.orderDate`, `orders.status`\n",
      "     - `customers.customerName`, `customers.creditLimit`\n",
      "   - **Relationships Leveraged:** Link customer IDs to orders to track order frequency and size.\n",
      "\n",
      "4. **Employee Sales Contribution**\n",
      "   - **Description:** Assess how each employee contributes to sales by analyzing the performance of their assigned customers.\n",
      "   - **Data Sources:** `employees.csv`, `customers.csv`, `orders.csv`\n",
      "   - **Columns Utilized:**\n",
      "     - `employees.employeeNumber`, `employees.jobTitle`\n",
      "     - `customers.salesRepEmployeeNumber`, `customers.customerNumber`\n",
      "     - `orders.orderNumber`, `orders.status`\n",
      "   - **Relationships Leveraged:** Connect employees to customers via sales rep numbers and analyze linked orders.\n",
      "\n",
      "5. **Inventory Management Insight**\n",
      "   - **Description:** Optimize inventory by studying stock levels in relation to product demand.\n",
      "   - **Data Sources:** `products.csv`, `orderdetails.csv`\n",
      "   - **Columns Utilized:**\n",
      "     - `products.productCode`, `products.quantityInStock`\n",
      "     - `orderdetails.productCode`, `orderdetails.quantityOrdered`\n",
      "   - **Relationships Leveraged:** Relate stock quantities to order data to identify fast-moving and slow-moving items.\n",
      "\n",
      "---\n",
      "\n",
      "### **Summary**\n",
      "\n",
      "These use cases leverage the relationships between different datasets, enabling a comprehensive analysis of business operations. By integrating product, customer, employee, and sales data, insights can be generated to enhance decision-making across various departments such as marketing, finance, and operations.\n"
     ]
    }
   ],
   "source": [
    "print(response.chat_message.content)"
   ]
  }
 ],
 "metadata": {
  "kernelspec": {
   "display_name": "autogen_v2",
   "language": "python",
   "name": "python3"
  },
  "language_info": {
   "codemirror_mode": {
    "name": "ipython",
    "version": 3
   },
   "file_extension": ".py",
   "mimetype": "text/x-python",
   "name": "python",
   "nbconvert_exporter": "python",
   "pygments_lexer": "ipython3",
   "version": "3.11.9"
  }
 },
 "nbformat": 4,
 "nbformat_minor": 2
}
